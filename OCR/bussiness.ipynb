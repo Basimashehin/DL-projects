{
 "cells": [
  {
   "cell_type": "code",
   "execution_count": 13,
   "metadata": {},
   "outputs": [
    {
     "data": {
      "text/plain": [
       "array([[[255, 255, 255],\n",
       "        [255, 255, 255],\n",
       "        [255, 255, 255],\n",
       "        ...,\n",
       "        [255, 255, 255],\n",
       "        [255, 255, 255],\n",
       "        [255, 255, 255]],\n",
       "\n",
       "       [[255, 255, 255],\n",
       "        [255, 255, 255],\n",
       "        [255, 255, 255],\n",
       "        ...,\n",
       "        [255, 255, 255],\n",
       "        [255, 255, 255],\n",
       "        [255, 255, 255]],\n",
       "\n",
       "       [[255, 255, 255],\n",
       "        [255, 255, 255],\n",
       "        [255, 255, 255],\n",
       "        ...,\n",
       "        [255, 255, 255],\n",
       "        [255, 255, 255],\n",
       "        [255, 255, 255]],\n",
       "\n",
       "       ...,\n",
       "\n",
       "       [[255, 255, 255],\n",
       "        [255, 255, 255],\n",
       "        [255, 255, 255],\n",
       "        ...,\n",
       "        [255, 255, 255],\n",
       "        [255, 255, 255],\n",
       "        [255, 255, 255]],\n",
       "\n",
       "       [[255, 255, 255],\n",
       "        [255, 255, 255],\n",
       "        [255, 255, 255],\n",
       "        ...,\n",
       "        [255, 255, 255],\n",
       "        [255, 255, 255],\n",
       "        [255, 255, 255]],\n",
       "\n",
       "       [[255, 255, 255],\n",
       "        [255, 255, 255],\n",
       "        [255, 255, 255],\n",
       "        ...,\n",
       "        [255, 255, 255],\n",
       "        [255, 255, 255],\n",
       "        [255, 255, 255]]], dtype=uint8)"
      ]
     },
     "execution_count": 13,
     "metadata": {},
     "output_type": "execute_result"
    }
   ],
   "source": [
    "import cv2\n",
    "image = cv2.imread(r'D:\\DL projects\\OCR\\bussiness card.jpg')\n",
    "# image = cv2.imread(r'D:\\DL projects\\OCR\\bussines.jpg')\n",
    "image"
   ]
  },
  {
   "cell_type": "code",
   "execution_count": 14,
   "metadata": {},
   "outputs": [],
   "source": [
    "cv2.imshow('BUSSINESS CARD',image)\n",
    "cv2.waitKey()\n",
    "cv2.destroyAllWindows()"
   ]
  },
  {
   "cell_type": "code",
   "execution_count": 15,
   "metadata": {},
   "outputs": [],
   "source": [
    "import pytesseract\n",
    "pytesseract.pytesseract.tesseract_cmd=r'C:\\Users\\Lenovo\\AppData\\Local\\Tesseract-OCR\\tesseract.exe'"
   ]
  },
  {
   "cell_type": "code",
   "execution_count": 16,
   "metadata": {},
   "outputs": [
    {
     "name": "stdout",
     "output_type": "stream",
     "text": [
      "x. so) RARBU\n",
      "\n",
      "\n"
     ]
    }
   ],
   "source": [
    "text=pytesseract.image_to_string(image)\n",
    "print(text)"
   ]
  },
  {
   "cell_type": "code",
   "execution_count": 17,
   "metadata": {},
   "outputs": [
    {
     "data": {
      "text/plain": [
       "{'level': [1, 2, 3, 4, 5, 5, 5, 2, 3, 4, 5],\n",
       " 'page_num': [1, 1, 1, 1, 1, 1, 1, 1, 1, 1, 1],\n",
       " 'block_num': [0, 1, 1, 1, 1, 1, 1, 2, 2, 2, 2],\n",
       " 'par_num': [0, 0, 1, 1, 1, 1, 1, 0, 1, 1, 1],\n",
       " 'line_num': [0, 0, 0, 1, 1, 1, 1, 0, 0, 1, 1],\n",
       " 'word_num': [0, 0, 0, 0, 1, 2, 3, 0, 0, 0, 1],\n",
       " 'left': [0, 31, 31, 31, 31, 126, 151, 29, 29, 29, 29],\n",
       " 'top': [0, 8, 8, 8, 8, 25, 25, 49, 49, 49, 49],\n",
       " 'width': [225, 153, 153, 153, 96, 17, 33, 168, 168, 168, 168],\n",
       " 'height': [225, 100, 100, 100, 100, 8, 8, 176, 176, 176, 176],\n",
       " 'conf': [-1, -1, -1, -1, 29, 33, 25, -1, -1, -1, 95],\n",
       " 'text': ['', '', '', '', 'x.', 'so)', 'RARBU', '', '', '', '']}"
      ]
     },
     "execution_count": 17,
     "metadata": {},
     "output_type": "execute_result"
    }
   ],
   "source": [
    "data=pytesseract.image_to_data(image,output_type=pytesseract.Output.DICT)\n",
    "data"
   ]
  },
  {
   "cell_type": "code",
   "execution_count": 18,
   "metadata": {},
   "outputs": [],
   "source": [
    "import re"
   ]
  },
  {
   "cell_type": "code",
   "execution_count": 19,
   "metadata": {},
   "outputs": [],
   "source": [
    "n=len(data['text'])\n",
    "for i in range(n):\n",
    "    if re.search(r'^[a-zA-Z0-9._%+-]+@[a-zA-Z0-9.-]+\\.[a-zA-Z]{2,}$',data['text'][i]):\n",
    "        print(data['text'][i])\n",
    "        x=data['left'][i]\n",
    "        y=data['top'][i]\n",
    "        w=data['width'][i]\n",
    "        h=data['height'][i]\n",
    "        cv2.rectangle(image,(x,y),(x+w,y+h),(0,0,255),2)\n",
    "cv2.imshow('Image',image)\n",
    "cv2.waitKey()\n",
    "cv2.destroyAllWindows()"
   ]
  },
  {
   "cell_type": "code",
   "execution_count": 20,
   "metadata": {},
   "outputs": [],
   "source": [
    "image = cv2.imread(r'D:\\DL projects\\OCR\\bussiness card.jpg')\n",
    "n=len(data['text'])\n",
    "for i in range(n):\n",
    "    if  re.search(r'(?:ph|phone|phno)?\\s*(?:[+-]?\\d\\s*[\\(\\)]*){7,}',data['text'][i]):\n",
    "        print(data['text'][i])\n",
    "        x=data['left'][i]\n",
    "        y=data['top'][i]\n",
    "        w=data['width'][i]\n",
    "        h=data['height'][i]\n",
    "        cv2.rectangle(image,(x,y),(x+w,y+h),(0,0,255),2)\n",
    "cv2.imshow('Image',image)\n",
    "cv2.waitKey()\n",
    "cv2.destroyAllWindows()"
   ]
  },
  {
   "cell_type": "code",
   "execution_count": 21,
   "metadata": {},
   "outputs": [
    {
     "data": {
      "text/plain": [
       "[225, 100, 100, 100, 100, 8, 8, 176, 176, 176, 176]"
      ]
     },
     "execution_count": 21,
     "metadata": {},
     "output_type": "execute_result"
    }
   ],
   "source": [
    "data['height']"
   ]
  },
  {
   "cell_type": "code",
   "execution_count": 22,
   "metadata": {},
   "outputs": [],
   "source": [
    "  # match = re.search(r'(?:ph|phone|phno)?\\s*(?:[+-]?\\d\\s*[\\(\\)]*){7,}', string)"
   ]
  }
 ],
 "metadata": {
  "kernelspec": {
   "display_name": "Python 3",
   "language": "python",
   "name": "python3"
  },
  "language_info": {
   "codemirror_mode": {
    "name": "ipython",
    "version": 3
   },
   "file_extension": ".py",
   "mimetype": "text/x-python",
   "name": "python",
   "nbconvert_exporter": "python",
   "pygments_lexer": "ipython3",
   "version": "3.8.3"
  },
  "orig_nbformat": 4
 },
 "nbformat": 4,
 "nbformat_minor": 2
}
