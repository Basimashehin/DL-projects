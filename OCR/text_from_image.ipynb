{
 "cells": [
  {
   "cell_type": "code",
   "execution_count": 1,
   "metadata": {},
   "outputs": [
    {
     "data": {
      "text/plain": [
       "array([[[ 6,  5,  1],\n",
       "        [ 6,  5,  1],\n",
       "        [ 6,  5,  1],\n",
       "        ...,\n",
       "        [ 9,  4,  1],\n",
       "        [ 9,  4,  1],\n",
       "        [ 9,  4,  1]],\n",
       "\n",
       "       [[ 6,  5,  1],\n",
       "        [ 6,  5,  1],\n",
       "        [ 6,  5,  1],\n",
       "        ...,\n",
       "        [ 9,  4,  1],\n",
       "        [ 9,  4,  1],\n",
       "        [ 9,  4,  1]],\n",
       "\n",
       "       [[ 6,  5,  1],\n",
       "        [ 6,  5,  1],\n",
       "        [ 6,  5,  1],\n",
       "        ...,\n",
       "        [ 9,  4,  1],\n",
       "        [ 9,  4,  1],\n",
       "        [ 9,  4,  1]],\n",
       "\n",
       "       ...,\n",
       "\n",
       "       [[ 8,  3,  0],\n",
       "        [ 9,  4,  1],\n",
       "        [ 9,  4,  1],\n",
       "        ...,\n",
       "        [12,  7,  4],\n",
       "        [12,  7,  4],\n",
       "        [12,  7,  4]],\n",
       "\n",
       "       [[ 8,  3,  0],\n",
       "        [ 9,  4,  1],\n",
       "        [ 9,  4,  1],\n",
       "        ...,\n",
       "        [12,  7,  4],\n",
       "        [12,  7,  4],\n",
       "        [12,  7,  4]],\n",
       "\n",
       "       [[ 8,  3,  0],\n",
       "        [ 9,  4,  1],\n",
       "        [ 9,  4,  1],\n",
       "        ...,\n",
       "        [12,  7,  4],\n",
       "        [12,  7,  4],\n",
       "        [12,  7,  4]]], dtype=uint8)"
      ]
     },
     "execution_count": 1,
     "metadata": {},
     "output_type": "execute_result"
    }
   ],
   "source": [
    "import cv2\n",
    "img=cv2.imread(r'D:\\DL projects\\OCR\\2.jpg')\n",
    "img"
   ]
  },
  {
   "cell_type": "code",
   "execution_count": 2,
   "metadata": {},
   "outputs": [],
   "source": [
    "cv2.imshow('Image',img)\n",
    "cv2.waitKey()\n",
    "cv2.destroyAllWindows()\n"
   ]
  },
  {
   "cell_type": "code",
   "execution_count": 3,
   "metadata": {},
   "outputs": [],
   "source": [
    "import pytesseract\n",
    "pytesseract.pytesseract.tesseract_cmd=r'C:\\Users\\Lenovo\\AppData\\Local\\Tesseract-OCR\\tesseract.exe'"
   ]
  },
  {
   "cell_type": "code",
   "execution_count": 4,
   "metadata": {},
   "outputs": [
    {
     "name": "stdout",
     "output_type": "stream",
     "text": [
      "MoonShine\n",
      "\n"
     ]
    }
   ],
   "source": [
    "text=pytesseract.image_to_string(img)\n",
    "print(text)"
   ]
  },
  {
   "cell_type": "code",
   "execution_count": 5,
   "metadata": {},
   "outputs": [
    {
     "data": {
      "text/plain": [
       "{'level': [1, 2, 3, 4, 5],\n",
       " 'page_num': [1, 1, 1, 1, 1],\n",
       " 'block_num': [0, 1, 1, 1, 1],\n",
       " 'par_num': [0, 0, 1, 1, 1],\n",
       " 'line_num': [0, 0, 0, 1, 1],\n",
       " 'word_num': [0, 0, 0, 0, 1],\n",
       " 'left': [0, 43, 43, 43, 43],\n",
       " 'top': [0, 75, 75, 75, 75],\n",
       " 'width': [291, 210, 210, 210, 210],\n",
       " 'height': [173, 32, 32, 32, 32],\n",
       " 'conf': [-1, -1, -1, -1, 91],\n",
       " 'text': ['', '', '', '', 'MoonShine']}"
      ]
     },
     "execution_count": 5,
     "metadata": {},
     "output_type": "execute_result"
    }
   ],
   "source": [
    "data=pytesseract.image_to_data(img,output_type=pytesseract.Output.DICT)\n",
    "data"
   ]
  },
  {
   "cell_type": "code",
   "execution_count": 6,
   "metadata": {},
   "outputs": [
    {
     "name": "stdout",
     "output_type": "stream",
     "text": [
      "a\n",
      "b\n",
      "c\n"
     ]
    }
   ],
   "source": [
    "dic={'text':['a','b','c',''],'conf':[90,78,89,-1]}\n",
    "n=len(dic['text'])\n",
    "for i in range(n):\n",
    "    if dic['conf'][i]>70:\n",
    "        print(dic['text'][i])"
   ]
  }
 ],
 "metadata": {
  "kernelspec": {
   "display_name": "Python 3",
   "language": "python",
   "name": "python3"
  },
  "language_info": {
   "codemirror_mode": {
    "name": "ipython",
    "version": 3
   },
   "file_extension": ".py",
   "mimetype": "text/x-python",
   "name": "python",
   "nbconvert_exporter": "python",
   "pygments_lexer": "ipython3",
   "version": "3.8.3"
  },
  "orig_nbformat": 4
 },
 "nbformat": 4,
 "nbformat_minor": 2
}
